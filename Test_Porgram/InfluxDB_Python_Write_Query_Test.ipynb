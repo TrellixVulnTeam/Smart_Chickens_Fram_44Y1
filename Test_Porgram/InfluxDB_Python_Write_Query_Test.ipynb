{
 "cells": [
  {
   "cell_type": "code",
   "execution_count": 1,
   "metadata": {},
   "outputs": [],
   "source": [
    "from influxdb_client import InfluxDBClient, Point\n",
    "from influxdb_client.client.write_api import SYNCHRONOUS"
   ]
  },
  {
   "cell_type": "code",
   "execution_count": 2,
   "metadata": {},
   "outputs": [],
   "source": [
    "InfluxDB_Url = \"http://localhost:8086\"\n",
    "InfluxDB_Bucket = \"Test_Bucket\"\n",
    "InfluxDB_Token = \"CN10xIU-pX1n71Gx7ZR9uDG-zq3sU9XCRjlgY-Wv_LuvxnvWhaUhVQJb_06xCpnA0UC__1r5YgcoW9G6HRytWw==\"\n",
    "InfluxDB_Org = \"InfluxDB\""
   ]
  },
  {
   "cell_type": "code",
   "execution_count": 3,
   "metadata": {},
   "outputs": [],
   "source": [
    "InfluxDB_Client = InfluxDBClient(url=InfluxDB_Url, token=InfluxDB_Token, org=InfluxDB_Org)"
   ]
  },
  {
   "cell_type": "code",
   "execution_count": 4,
   "metadata": {},
   "outputs": [],
   "source": [
    "InfluxDB_Write_API = InfluxDB_Client.write_api(write_options=SYNCHRONOUS)\n",
    "InfluxDB_Query_API = InfluxDB_Client.query_api()"
   ]
  },
  {
   "cell_type": "code",
   "execution_count": 5,
   "metadata": {},
   "outputs": [],
   "source": [
    "Data_Point = Point(\"CWS100_Recive_Data\").tag(\"location\", \"Machine_1\").tag(\"classification\", \"D\").field(\"Weight\", 1500)\n",
    "InfluxDB_Write_API.write(bucket=InfluxDB_Bucket, record=Data_Point)"
   ]
  },
  {
   "cell_type": "code",
   "execution_count": 6,
   "metadata": {},
   "outputs": [
    {
     "name": "stdout",
     "output_type": "stream",
     "text": [
      "FluxTable() columns: 10, records: 2\n",
      "{'result': '_result', 'table': 0, '_start': datetime.datetime(2020, 12, 30, 9, 48, 25, 249940, tzinfo=datetime.timezone.utc), '_stop': datetime.datetime(2020, 12, 30, 9, 58, 25, 249940, tzinfo=datetime.timezone.utc), '_time': datetime.datetime(2020, 12, 30, 9, 49, 54, 225432, tzinfo=datetime.timezone.utc), '_value': 1500, '_field': 'Weight', '_measurement': 'CWS100_Recive_Data', 'classification': 'D', 'location': 'Machine_1'}\n",
      "{'result': '_result', 'table': 0, '_start': datetime.datetime(2020, 12, 30, 9, 48, 25, 249940, tzinfo=datetime.timezone.utc), '_stop': datetime.datetime(2020, 12, 30, 9, 58, 25, 249940, tzinfo=datetime.timezone.utc), '_time': datetime.datetime(2020, 12, 30, 9, 58, 24, 128130, tzinfo=datetime.timezone.utc), '_value': 1500, '_field': 'Weight', '_measurement': 'CWS100_Recive_Data', 'classification': 'D', 'location': 'Machine_1'}\n"
     ]
    }
   ],
   "source": [
    "## Using Table Structure\n",
    "Data_Tables = InfluxDB_Query_API.query('from(bucket:\"Test_Bucket\") |> range(start: -10m)')\n",
    "\n",
    "for table in Data_Tables:\n",
    "    print(table)\n",
    "    for row in table.records:\n",
    "        print (row.values)"
   ]
  },
  {
   "cell_type": "code",
   "execution_count": 7,
   "metadata": {},
   "outputs": [
    {
     "name": "stdout",
     "output_type": "stream",
     "text": [
      "Val_Count : 66\n"
     ]
    }
   ],
   "source": [
    "## Using CSV Library\n",
    "CSV_Result = InfluxDB_Query_API.query_csv('from(bucket:\"Test_Bucket\") |> range(start: -10m)')\n",
    "Val_Count = 0\n",
    "for row in CSV_Result:\n",
    "    for cell in row:\n",
    "        Val_Count += 1\n",
    "        \n",
    "print(\"Val_Count : \" + str(Val_Count))"
   ]
  },
  {
   "cell_type": "code",
   "execution_count": null,
   "metadata": {},
   "outputs": [],
   "source": []
  }
 ],
 "metadata": {
  "kernelspec": {
   "display_name": "Python 3",
   "language": "python",
   "name": "python3"
  },
  "language_info": {
   "codemirror_mode": {
    "name": "ipython",
    "version": 3
   },
   "file_extension": ".py",
   "mimetype": "text/x-python",
   "name": "python",
   "nbconvert_exporter": "python",
   "pygments_lexer": "ipython3",
   "version": "3.8.5"
  }
 },
 "nbformat": 4,
 "nbformat_minor": 4
}
