{
 "cells": [
  {
   "cell_type": "code",
   "execution_count": 1,
   "metadata": {},
   "outputs": [],
   "source": [
    "import time\n",
    "import random\n",
    "import json\n",
    "import logging"
   ]
  },
  {
   "cell_type": "code",
   "execution_count": 2,
   "metadata": {},
   "outputs": [],
   "source": [
    "import paho.mqtt.client as mqtt"
   ]
  },
  {
   "cell_type": "code",
   "execution_count": 3,
   "metadata": {},
   "outputs": [],
   "source": [
    "logging.basicConfig(level=logging.DEBUG)\n",
    "logger = logging.getLogger(__name__)"
   ]
  },
  {
   "cell_type": "code",
   "execution_count": 4,
   "metadata": {},
   "outputs": [],
   "source": [
    "class Publish_To_MQTT(object):\n",
    "    def __init__(self):\n",
    "        self.MQTT_SERVER = \"127.0.0.1\"  \n",
    "        self.MQTT_PORT = 1883  \n",
    "        self.MQTT_ALIVE = 60\n",
    "        self.mqtt_client = mqtt.Client()  \n",
    "        self.mqtt_client.connect(self.MQTT_SERVER, self.MQTT_PORT, self.MQTT_ALIVE)\n",
    "        \n",
    "    def Publish_Data(self, dataChnId1, payload):\n",
    "        self.dataChnId1 = dataChnId1\n",
    "        self.MQTT_TOPIC1 = \"BLE_Data/\" + self.dataChnId1\n",
    "        self.payload = {\"dataChnId\":self.dataChnId1,\"value\":payload}\n",
    "        logger.info(self.dataChnId1 + \" : \" + str(payload))\n",
    "        self.mqtt_client.publish(self.MQTT_TOPIC1, json.dumps(self.payload), qos=1)"
   ]
  },
  {
   "cell_type": "code",
   "execution_count": 5,
   "metadata": {},
   "outputs": [
    {
     "name": "stderr",
     "output_type": "stream",
     "text": [
      "INFO:__main__:Temperature : 27\n"
     ]
    }
   ],
   "source": [
    "Test_MQTT_Publish = Publish_To_MQTT()\n",
    "Test_MQTT_Publish.Publish_Data(\"Temperature\", 27)"
   ]
  },
  {
   "cell_type": "code",
   "execution_count": null,
   "metadata": {},
   "outputs": [],
   "source": []
  }
 ],
 "metadata": {
  "kernelspec": {
   "display_name": "Python 3",
   "language": "python",
   "name": "python3"
  },
  "language_info": {
   "codemirror_mode": {
    "name": "ipython",
    "version": 3
   },
   "file_extension": ".py",
   "mimetype": "text/x-python",
   "name": "python",
   "nbconvert_exporter": "python",
   "pygments_lexer": "ipython3",
   "version": "3.8.6"
  }
 },
 "nbformat": 4,
 "nbformat_minor": 4
}
