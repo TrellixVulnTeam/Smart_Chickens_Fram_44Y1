{
 "cells": [
  {
   "cell_type": "code",
   "execution_count": null,
   "metadata": {},
   "outputs": [],
   "source": [
    "#Method 1"
   ]
  },
  {
   "cell_type": "code",
   "execution_count": null,
   "metadata": {},
   "outputs": [],
   "source": [
    "import sys"
   ]
  },
  {
   "cell_type": "code",
   "execution_count": null,
   "metadata": {},
   "outputs": [],
   "source": [
    "with open(\"/dev/pts/2\", \"wb+\", buffering=0) as term:\n",
    "    term.write(\"hello\".encode())\n",
    "    while True:\n",
    "        print(term.read(1).decode(), end='')\n",
    "        sys.stdout.flush()\n"
   ]
  },
  {
   "cell_type": "code",
   "execution_count": 1,
   "metadata": {},
   "outputs": [],
   "source": [
    "#Method 2"
   ]
  },
  {
   "cell_type": "code",
   "execution_count": null,
   "metadata": {},
   "outputs": [],
   "source": [
    "import time\n",
    "import serial"
   ]
  },
  {
   "cell_type": "code",
   "execution_count": 1,
   "metadata": {},
   "outputs": [],
   "source": [
    "class Read_PTS(object):\n",
    "    def __init__(self, tty_name):\n",
    "        self.ser = serial.Serial()\n",
    "        self.ser.port = tty_name\n",
    "        # If it breaks try the below\n",
    "        #self.serConf() # Uncomment lines here till it works\n",
    "\n",
    "        self.ser.open()\n",
    "        self.ser.flushInput()\n",
    "        self.ser.flushOutput()\n",
    "\n",
    "        self.addr = None\n",
    "        #self.setAddress(0)\n",
    "\n",
    "    def Send_CMD_And_Recive(self, cmd_str):\n",
    "        self.ser.write((cmd_str + \"\\r\\n\").encode())\n",
    "        time.sleep(0.5)\n",
    "        return self.ser.readline().decode(\"utf-8\")\n",
    "\n",
    "    def Send_CMD(self, cmd_str):\n",
    "        self.ser.write((cmd_str + \"\\r\\n\").encode())\n",
    "        time.sleep(0.5)\n",
    "    \n",
    "    def Read_CMD(self):\n",
    "        return self.ser.readline().decode(\"utf-8\")\n",
    "    \n",
    "    def serConf(self):\n",
    "        self.ser.baudrate = 9600\n",
    "        self.ser.bytesize = serial.EIGHTBITS\n",
    "        self.ser.parity = serial.PARITY_NONE\n",
    "        self.ser.stopbits = serial.STOPBITS_ONE\n",
    "        self.ser.timeout = 0 # Non-Block reading\n",
    "        self.ser.xonxoff = False # Disable Software Flow Control\n",
    "        self.ser.rtscts = False # Disable (RTS/CTS) flow Control\n",
    "        self.ser.dsrdtr = False # Disable (DSR/DTR) flow Control\n",
    "        self.ser.writeTimeout = 2\n",
    "\n",
    "    def close(self):\n",
    "        self.ser.close()"
   ]
  },
  {
   "cell_type": "code",
   "execution_count": null,
   "metadata": {},
   "outputs": [],
   "source": [
    "Test_Read = Read_PTS(\"/dev/pts/2\")\n",
    "Test_Read.serConf()\n",
    "while True:\n",
    "    A = Test_Read.Read_CMD()\n",
    "    print(A)"
   ]
  }
 ],
 "metadata": {
  "kernelspec": {
   "display_name": "Python 3",
   "language": "python",
   "name": "python3"
  },
  "language_info": {
   "codemirror_mode": {
    "name": "ipython",
    "version": 3
   },
   "file_extension": ".py",
   "mimetype": "text/x-python",
   "name": "python",
   "nbconvert_exporter": "python",
   "pygments_lexer": "ipython3",
   "version": "3.6.9"
  }
 },
 "nbformat": 4,
 "nbformat_minor": 4
}
